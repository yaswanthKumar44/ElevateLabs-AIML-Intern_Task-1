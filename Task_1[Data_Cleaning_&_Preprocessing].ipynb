{
  "nbformat": 4,
  "nbformat_minor": 0,
  "metadata": {
    "colab": {
      "provenance": []
    },
    "kernelspec": {
      "name": "python3",
      "display_name": "Python 3"
    },
    "language_info": {
      "name": "python"
    }
  },
  "cells": [
    {
      "cell_type": "code",
      "execution_count": 1,
      "metadata": {
        "id": "RTQBcKzh-7R5"
      },
      "outputs": [],
      "source": [
        "#  Import necessary libraries\n",
        "import pandas as pd\n",
        "import numpy as np\n",
        "import seaborn as sns\n",
        "import matplotlib.pyplot as plt\n",
        "from sklearn.preprocessing import LabelEncoder, StandardScaler\n",
        "from google.colab import files"
      ]
    },
    {
      "cell_type": "code",
      "source": [
        "#  Load the dataset\n",
        "df = pd.read_csv('Titanic.csv')"
      ],
      "metadata": {
        "id": "GKb-109D_IyC"
      },
      "execution_count": 4,
      "outputs": []
    },
    {
      "cell_type": "code",
      "source": [
        "#  Explore basic info\n",
        "print(df.head())\n",
        "print(df.info())\n",
        "print(df.describe())\n",
        "print(df.isnull().sum())"
      ],
      "metadata": {
        "colab": {
          "base_uri": "https://localhost:8080/"
        },
        "id": "DBk5itgP_NRS",
        "outputId": "019a12f6-2d7d-4c88-bb7c-e0891d0a78fc"
      },
      "execution_count": 5,
      "outputs": [
        {
          "output_type": "stream",
          "name": "stdout",
          "text": [
            "   PassengerId  Survived  Pclass  \\\n",
            "0            1         0       3   \n",
            "1            2         1       1   \n",
            "2            3         1       3   \n",
            "3            4         1       1   \n",
            "4            5         0       3   \n",
            "\n",
            "                                                Name     Sex   Age  SibSp  \\\n",
            "0                            Braund, Mr. Owen Harris    male  22.0      1   \n",
            "1  Cumings, Mrs. John Bradley (Florence Briggs Th...  female  38.0      1   \n",
            "2                             Heikkinen, Miss. Laina  female  26.0      0   \n",
            "3       Futrelle, Mrs. Jacques Heath (Lily May Peel)  female  35.0      1   \n",
            "4                           Allen, Mr. William Henry    male  35.0      0   \n",
            "\n",
            "   Parch            Ticket     Fare Cabin Embarked  \n",
            "0      0         A/5 21171   7.2500   NaN        S  \n",
            "1      0          PC 17599  71.2833   C85        C  \n",
            "2      0  STON/O2. 3101282   7.9250   NaN        S  \n",
            "3      0            113803  53.1000  C123        S  \n",
            "4      0            373450   8.0500   NaN        S  \n",
            "<class 'pandas.core.frame.DataFrame'>\n",
            "RangeIndex: 891 entries, 0 to 890\n",
            "Data columns (total 12 columns):\n",
            " #   Column       Non-Null Count  Dtype  \n",
            "---  ------       --------------  -----  \n",
            " 0   PassengerId  891 non-null    int64  \n",
            " 1   Survived     891 non-null    int64  \n",
            " 2   Pclass       891 non-null    int64  \n",
            " 3   Name         891 non-null    object \n",
            " 4   Sex          891 non-null    object \n",
            " 5   Age          714 non-null    float64\n",
            " 6   SibSp        891 non-null    int64  \n",
            " 7   Parch        891 non-null    int64  \n",
            " 8   Ticket       891 non-null    object \n",
            " 9   Fare         891 non-null    float64\n",
            " 10  Cabin        204 non-null    object \n",
            " 11  Embarked     889 non-null    object \n",
            "dtypes: float64(2), int64(5), object(5)\n",
            "memory usage: 83.7+ KB\n",
            "None\n",
            "       PassengerId    Survived      Pclass         Age       SibSp  \\\n",
            "count   891.000000  891.000000  891.000000  714.000000  891.000000   \n",
            "mean    446.000000    0.383838    2.308642   29.699118    0.523008   \n",
            "std     257.353842    0.486592    0.836071   14.526497    1.102743   \n",
            "min       1.000000    0.000000    1.000000    0.420000    0.000000   \n",
            "25%     223.500000    0.000000    2.000000   20.125000    0.000000   \n",
            "50%     446.000000    0.000000    3.000000   28.000000    0.000000   \n",
            "75%     668.500000    1.000000    3.000000   38.000000    1.000000   \n",
            "max     891.000000    1.000000    3.000000   80.000000    8.000000   \n",
            "\n",
            "            Parch        Fare  \n",
            "count  891.000000  891.000000  \n",
            "mean     0.381594   32.204208  \n",
            "std      0.806057   49.693429  \n",
            "min      0.000000    0.000000  \n",
            "25%      0.000000    7.910400  \n",
            "50%      0.000000   14.454200  \n",
            "75%      0.000000   31.000000  \n",
            "max      6.000000  512.329200  \n",
            "PassengerId      0\n",
            "Survived         0\n",
            "Pclass           0\n",
            "Name             0\n",
            "Sex              0\n",
            "Age            177\n",
            "SibSp            0\n",
            "Parch            0\n",
            "Ticket           0\n",
            "Fare             0\n",
            "Cabin          687\n",
            "Embarked         2\n",
            "dtype: int64\n"
          ]
        }
      ]
    },
    {
      "cell_type": "code",
      "source": [
        "#  Handle missing values\n",
        "# Age — fill with median\n",
        "df['Age'].fillna(df['Age'].median(), inplace=True)"
      ],
      "metadata": {
        "colab": {
          "base_uri": "https://localhost:8080/"
        },
        "id": "f5cworWh_Qls",
        "outputId": "098d4bb7-b83d-4283-bc7e-c727feec5680"
      },
      "execution_count": 6,
      "outputs": [
        {
          "output_type": "stream",
          "name": "stderr",
          "text": [
            "/tmp/ipython-input-6-1625503639.py:3: FutureWarning: A value is trying to be set on a copy of a DataFrame or Series through chained assignment using an inplace method.\n",
            "The behavior will change in pandas 3.0. This inplace method will never work because the intermediate object on which we are setting values always behaves as a copy.\n",
            "\n",
            "For example, when doing 'df[col].method(value, inplace=True)', try using 'df.method({col: value}, inplace=True)' or df[col] = df[col].method(value) instead, to perform the operation inplace on the original object.\n",
            "\n",
            "\n",
            "  df['Age'].fillna(df['Age'].median(), inplace=True)\n"
          ]
        }
      ]
    },
    {
      "cell_type": "code",
      "source": [
        "# Embarked — fill with mode\n",
        "df['Embarked'].fillna(df['Embarked'].mode()[0], inplace=True)"
      ],
      "metadata": {
        "colab": {
          "base_uri": "https://localhost:8080/"
        },
        "id": "oipeMIVc_URl",
        "outputId": "d99069bf-e3f6-4207-b46c-321fbd8f6795"
      },
      "execution_count": 7,
      "outputs": [
        {
          "output_type": "stream",
          "name": "stderr",
          "text": [
            "/tmp/ipython-input-7-4130368213.py:2: FutureWarning: A value is trying to be set on a copy of a DataFrame or Series through chained assignment using an inplace method.\n",
            "The behavior will change in pandas 3.0. This inplace method will never work because the intermediate object on which we are setting values always behaves as a copy.\n",
            "\n",
            "For example, when doing 'df[col].method(value, inplace=True)', try using 'df.method({col: value}, inplace=True)' or df[col] = df[col].method(value) instead, to perform the operation inplace on the original object.\n",
            "\n",
            "\n",
            "  df['Embarked'].fillna(df['Embarked'].mode()[0], inplace=True)\n"
          ]
        }
      ]
    },
    {
      "cell_type": "code",
      "source": [
        "# Cabin — drop this column\n",
        "df.drop('Cabin', axis=1, inplace=True)"
      ],
      "metadata": {
        "id": "Ae6oC9IM_WUM"
      },
      "execution_count": 8,
      "outputs": []
    },
    {
      "cell_type": "code",
      "source": [
        "#  Convert categorical features into numerical\n",
        "label_enc = LabelEncoder()"
      ],
      "metadata": {
        "id": "b5m4n6A__YKW"
      },
      "execution_count": 9,
      "outputs": []
    },
    {
      "cell_type": "code",
      "source": [
        "# Convert 'Sex'\n",
        "df['Sex'] = label_enc.fit_transform(df['Sex'])"
      ],
      "metadata": {
        "id": "H51zMj7J_av9"
      },
      "execution_count": 10,
      "outputs": []
    },
    {
      "cell_type": "code",
      "source": [
        "# Convert 'Embarked'\n",
        "df['Embarked'] = label_enc.fit_transform(df['Embarked'])\n"
      ],
      "metadata": {
        "id": "FmmqD5IG_cqr"
      },
      "execution_count": 11,
      "outputs": []
    },
    {
      "cell_type": "code",
      "source": [
        "#  Normalize/standardize numerical features\n",
        "scaler = StandardScaler()\n",
        "numerical_features = ['Age', 'Fare', 'SibSp', 'Parch']\n",
        "df[numerical_features] = scaler.fit_transform(df[numerical_features])\n"
      ],
      "metadata": {
        "id": "QkjSrF6z_eCP"
      },
      "execution_count": 12,
      "outputs": []
    },
    {
      "cell_type": "code",
      "source": [
        "#  Visualize outliers using boxplots\n",
        "plt.figure(figsize=(12, 6))\n",
        "for i, col in enumerate(numerical_features, 1):\n",
        "    plt.subplot(2, 2, i)\n",
        "    sns.boxplot(y=df[col])\n",
        "    plt.title(f'Boxplot of {col}')\n",
        "plt.tight_layout()\n",
        "plt.show()"
      ],
      "metadata": {
        "colab": {
          "base_uri": "https://localhost:8080/",
          "height": 607
        },
        "id": "or0EpytO_flA",
        "outputId": "19dc186a-7524-4245-a5b3-2af09cbbdeae"
      },
      "execution_count": 13,
      "outputs": [
        {
          "output_type": "display_data",
          "data": {
            "text/plain": [
              "<Figure size 1200x600 with 4 Axes>"
            ],
            "image/png": "[encoded data removed]"
          },
          "metadata": {}
        }
      ]
    },
    {
      "cell_type": "code",
      "source": [
        "#  Remove outliers using IQR method\n",
        "for col in numerical_features:\n",
        "    Q1 = df[col].quantile(0.25)\n",
        "    Q3 = df[col].quantile(0.75)\n",
        "    IQR = Q3 - Q1\n",
        "    lower_limit = Q1 - 1.5 * IQR\n",
        "    upper_limit = Q3 + 1.5 * IQR\n",
        "    df = df[(df[col] >= lower_limit) & (df[col] <= upper_limit)]\n"
      ],
      "metadata": {
        "id": "oPQ4d9KW_iWa"
      },
      "execution_count": 14,
      "outputs": []
    },
    {
      "cell_type": "code",
      "source": [
        "#  Final Cleaned Dataset Info\n",
        "print(df.info())\n",
        "print(df.head())\n"
      ],
      "metadata": {
        "colab": {
          "base_uri": "https://localhost:8080/"
        },
        "id": "NdsGLnDk_lJR",
        "outputId": "1b85077f-62a8-4fb3-eea9-ce28b36b6147"
      },
      "execution_count": 15,
      "outputs": [
        {
          "output_type": "stream",
          "name": "stdout",
          "text": [
            "<class 'pandas.core.frame.DataFrame'>\n",
            "Index: 577 entries, 0 to 890\n",
            "Data columns (total 11 columns):\n",
            " #   Column       Non-Null Count  Dtype  \n",
            "---  ------       --------------  -----  \n",
            " 0   PassengerId  577 non-null    int64  \n",
            " 1   Survived     577 non-null    int64  \n",
            " 2   Pclass       577 non-null    int64  \n",
            " 3   Name         577 non-null    object \n",
            " 4   Sex          577 non-null    int64  \n",
            " 5   Age          577 non-null    float64\n",
            " 6   SibSp        577 non-null    float64\n",
            " 7   Parch        577 non-null    float64\n",
            " 8   Ticket       577 non-null    object \n",
            " 9   Fare         577 non-null    float64\n",
            " 10  Embarked     577 non-null    int64  \n",
            "dtypes: float64(4), int64(5), object(2)\n",
            "memory usage: 54.1+ KB\n",
            "None\n",
            "   PassengerId  Survived  Pclass  \\\n",
            "0            1         0       3   \n",
            "2            3         1       3   \n",
            "3            4         1       1   \n",
            "4            5         0       3   \n",
            "5            6         0       3   \n",
            "\n",
            "                                           Name  Sex       Age     SibSp  \\\n",
            "0                       Braund, Mr. Owen Harris    1 -0.565736  0.432793   \n",
            "2                        Heikkinen, Miss. Laina    0 -0.258337 -0.474545   \n",
            "3  Futrelle, Mrs. Jacques Heath (Lily May Peel)    0  0.433312  0.432793   \n",
            "4                      Allen, Mr. William Henry    1  0.433312 -0.474545   \n",
            "5                              Moran, Mr. James    1 -0.104637 -0.474545   \n",
            "\n",
            "      Parch            Ticket      Fare  Embarked  \n",
            "0 -0.473674         A/5 21171 -0.502445         2  \n",
            "2 -0.473674  STON/O2. 3101282 -0.488854         2  \n",
            "3 -0.473674            113803  0.420730         2  \n",
            "4 -0.473674            373450 -0.486337         2  \n",
            "5 -0.473674            330877 -0.478116         1  \n"
          ]
        }
      ]
    }
  ]
}